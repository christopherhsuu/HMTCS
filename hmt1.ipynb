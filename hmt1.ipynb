{
 "cells": [
  {
   "cell_type": "code",
   "execution_count": 5,
   "metadata": {},
   "outputs": [
    {
     "ename": "SyntaxError",
     "evalue": "invalid syntax (736486420.py, line 1)",
     "output_type": "error",
     "traceback": [
      "\u001b[1;36m  Cell \u001b[1;32mIn[5], line 1\u001b[1;36m\u001b[0m\n\u001b[1;33m    pip install qiskit\u001b[0m\n\u001b[1;37m        ^\u001b[0m\n\u001b[1;31mSyntaxError\u001b[0m\u001b[1;31m:\u001b[0m invalid syntax\n"
     ]
    }
   ],
   "source": [
    "pip install qiskit\n",
    "\n"
   ]
  },
  {
   "cell_type": "code",
   "execution_count": 3,
   "metadata": {},
   "outputs": [
    {
     "ename": "ModuleNotFoundError",
     "evalue": "No module named 'qiskit'",
     "output_type": "error",
     "traceback": [
      "\u001b[1;31m---------------------------------------------------------------------------\u001b[0m",
      "\u001b[1;31mModuleNotFoundError\u001b[0m                       Traceback (most recent call last)",
      "Cell \u001b[1;32mIn[3], line 5\u001b[0m\n\u001b[0;32m      2\u001b[0m \u001b[38;5;28;01mimport\u001b[39;00m \u001b[38;5;21;01mmatplotlib\u001b[39;00m\u001b[38;5;21;01m.\u001b[39;00m\u001b[38;5;21;01mpyplot\u001b[39;00m \u001b[38;5;28;01mas\u001b[39;00m \u001b[38;5;21;01mplt\u001b[39;00m\n\u001b[0;32m      4\u001b[0m \u001b[38;5;66;03m# importing Qiskit\u001b[39;00m\n\u001b[1;32m----> 5\u001b[0m \u001b[38;5;28;01mfrom\u001b[39;00m \u001b[38;5;21;01mqiskit\u001b[39;00m \u001b[38;5;28;01mimport\u001b[39;00m QuantumCircuit, ClassicalRegister, QuantumRegister\n\u001b[0;32m      6\u001b[0m \u001b[38;5;28;01mfrom\u001b[39;00m \u001b[38;5;21;01mqiskit\u001b[39;00m\u001b[38;5;21;01m.\u001b[39;00m\u001b[38;5;21;01mprimitives\u001b[39;00m \u001b[38;5;28;01mimport\u001b[39;00m StatevectorSampler\n\u001b[0;32m      7\u001b[0m \u001b[38;5;28;01mfrom\u001b[39;00m \u001b[38;5;21;01mqiskit\u001b[39;00m\u001b[38;5;21;01m.\u001b[39;00m\u001b[38;5;21;01mvisualization\u001b[39;00m \u001b[38;5;28;01mimport\u001b[39;00m plot_histogram\n",
      "\u001b[1;31mModuleNotFoundError\u001b[0m: No module named 'qiskit'"
     ]
    }
   ],
   "source": [
    "import numpy as np\n",
    "import matplotlib.pyplot as plt\n",
    "\n",
    "# importing Qiskit\n",
    "from qiskit import QuantumCircuit, ClassicalRegister, QuantumRegister\n",
    "from qiskit.primitives import StatevectorSampler\n",
    "from qiskit.visualization import plot_histogram\n",
    "from qiskit.transpiler.preset_passmanagers import generate_preset_pass_manager"
   ]
  },
  {
   "cell_type": "code",
   "execution_count": null,
   "metadata": {},
   "outputs": [
    {
     "name": "stdout",
     "output_type": "stream",
     "text": [
      "The oracle returns a balanced function\n"
     ]
    }
   ],
   "source": [
    "n = 4\n",
    "oracleType, oracleValue = np.random.randint(2), np.random.randint(2)\n",
    "\n",
    "if oracleType == 0:\n",
    "    print(\"The oracle returns a constant value \", oracleValue)\n",
    "else:\n",
    "    print(\"The oracle returns a balanced function\")\n",
    "    a = np.random.randint(1,2**n) # this is a hidden parameter for balanced oracle. \n",
    "\n",
    "# Creating registers\n",
    "# n qubits for querying the oracle and one qubit for storing the answer\n",
    "qr = QuantumRegister(n+1) #all qubits are initialized to zero\n",
    "# for recording the measurement on the first register\n",
    "cr = ClassicalRegister(n, name='res')\n",
    "\n",
    "circuitName = \"DeutschJozsa\"\n",
    "djCircuit = QuantumCircuit(qr, cr)\n",
    "\n",
    "# Create the superposition of all input queries in the first register by applying the Hadamard gate to each qubit.\n",
    "for i in range(n):\n",
    "    djCircuit.h(qr[i])\n",
    "\n",
    "# Flip the second register and apply the Hadamard gate.\n",
    "djCircuit.x(qr[n])\n",
    "djCircuit.h(qr[n])\n",
    "    \n",
    "# Apply barrier to mark the beginning of the oracle\n",
    "djCircuit.barrier()\n",
    "\n",
    "if oracleType == 0:#If the oracleType is \"0\", the oracle returns oracleValue for all input. \n",
    "    if oracleValue == 1:\n",
    "        djCircuit.x(qr[n])\n",
    "    else:\n",
    "        djCircuit.id(qr[n])\n",
    "else: # Otherwise, it returns the inner product of the input with a (non-zero bitstring) \n",
    "    for i in range(n):\n",
    "        if (a & (1 << i)):\n",
    "            djCircuit.cx(qr[i], qr[n])\n",
    "        \n",
    "# Apply barrier to mark the end of the oracle\n",
    "djCircuit.barrier()\n",
    "\n",
    "# Apply Hadamard gates after querying the oracle\n",
    "for i in range(n):\n",
    "    djCircuit.h(qr[i])\n",
    "    \n",
    "# Measurement\n",
    "djCircuit.barrier()\n",
    "for i in range(n):\n",
    "    djCircuit.measure(qr[i], cr[i])"
   ]
  },
  {
   "cell_type": "code",
   "execution_count": null,
   "metadata": {},
   "outputs": [
    {
     "data": {
      "image/png": "[encoded data removed]",
      "text/plain": [
       "<Figure size 570.818x267.556 with 1 Axes>"
      ]
     },
     "execution_count": 3,
     "metadata": {},
     "output_type": "execute_result"
    }
   ],
   "source": [
    "djCircuit.draw(output='mpl',scale=0.5)"
   ]
  },
  {
   "cell_type": "code",
   "execution_count": null,
   "metadata": {},
   "outputs": [
    {
     "name": "stdout",
     "output_type": "stream",
     "text": [
      "Resulting 14x14 Grid:\n",
      "[['e' 'e' 'e' 'e' 'e' 'e' 'e' 'e' 'e' 'e' 'e' 'e' 'e' 'e']\n",
      " ['e' 'e' 'e' 'e' 'e' 'e' 'e' 'e' 'e' 'e' 'f' 'e' 'f' 'e']\n",
      " ['e' 'e' 'e' 'e' 'e' 'e' 'e' 'e' 'e' 'e' 'e' 'e' 'e' 'e']\n",
      " ['f' 'e' 'f' 'e' 'e' 'e' 'e' 'f' 'e' 'e' 'e' 'e' 'e' 'e']\n",
      " ['e' 'e' 'e' 'e' 'e' 'e' 'e' 'f' 'e' 'e' 'e' 'e' 'e' 'e']\n",
      " ['e' 'e' 'e' 'e' 'f' 'e' 'f' 'f' 'e' 'e' 'e' 'e' 'e' 'e']\n",
      " ['e' 'e' 'e' 'e' 'f' 'e' 'e' 'e' 'e' 'e' 'e' 'e' 'e' 'e']\n",
      " ['e' 'e' 'e' 'e' 'f' 'e' 'e' 'e' 'e' 'e' 'e' 'e' 'e' 'e']\n",
      " ['e' 'e' 'e' 'e' 'e' 'e' 'e' 'e' 'e' 'e' 'e' 'e' 'e' 'e']\n",
      " ['e' 'e' 'e' 'e' 'e' 'f' 'f' 'e' 'e' 'e' 'e' 'e' 'e' 'e']\n",
      " ['e' 'e' 'f' 'e' 'e' 'f' 'f' 'e' 'e' 'e' 'e' 'f' 'f' 'f']\n",
      " ['e' 'e' 'f' 'e' 'e' 'e' 'e' 'f' 'e' 'e' 'e' 'e' 'e' 'e']\n",
      " ['e' 'f' 'f' 'f' 'e' 'f' 'e' 'e' 'e' 'e' 'e' 'f' 'e' 'e']\n",
      " ['e' 'f' 'e' 'e' 'e' 'e' 'e' 'e' 'e' 'f' 'e' 'f' 'f' 'e']]\n"
     ]
    }
   ],
   "source": [
    "import numpy as np\n",
    "\n",
    "# Mocking the 16x16 grid with \"e\" and \"f\" (1 for \"e\" and 0 for \"f\")\n",
    "# Example for testing: Replace with actual image processing if needed\n",
    "grid = np.random.choice(['e', 'f'], (16, 16))\n",
    "\n",
    "# Initialize a 14x14 output for each 2x2 segment\n",
    "result_grid = np.empty((14, 14), dtype=str)\n",
    "\n",
    "for i in range(14):\n",
    "    for j in range(14):\n",
    "        # Extract 2x2 subgrid\n",
    "        subgrid = grid[i:i+2, j:j+2]\n",
    "        # Determine if it's \"balanced\" (edge) or \"constant\" (fill)\n",
    "        unique_values = np.unique(subgrid)\n",
    "        if len(unique_values) > 1:\n",
    "            result_grid[i, j] = 'e'  # \"edge\" (balanced)\n",
    "        else:\n",
    "            result_grid[i, j] = 'f'  # \"fill\" (constant)\n",
    "\n",
    "print(\"Resulting 14x14 Grid:\")\n",
    "print(result_grid)\n"
   ]
  },
  {
   "cell_type": "code",
   "execution_count": null,
   "metadata": {},
   "outputs": [
    {
     "ename": "ImportError",
     "evalue": "cannot import name 'execute' from 'qiskit' (c:\\Users\\chris\\anaconda3\\envs\\qc\\Lib\\site-packages\\qiskit\\__init__.py)",
     "output_type": "error",
     "traceback": [
      "\u001b[1;31m---------------------------------------------------------------------------\u001b[0m",
      "\u001b[1;31mImportError\u001b[0m                               Traceback (most recent call last)",
      "Cell \u001b[1;32mIn[5], line 1\u001b[0m\n\u001b[1;32m----> 1\u001b[0m \u001b[38;5;28;01mfrom\u001b[39;00m \u001b[38;5;21;01mqiskit\u001b[39;00m \u001b[38;5;28;01mimport\u001b[39;00m QuantumCircuit, ClassicalRegister, QuantumRegister, execute, BasicAer\n\u001b[0;32m      3\u001b[0m \u001b[38;5;28;01mdef\u001b[39;00m \u001b[38;5;21mrun_dj_circuit\u001b[39m(oracle_type, oracle_value, n):\n\u001b[0;32m      4\u001b[0m     \u001b[38;5;66;03m# Define a circuit similar to your existing code\u001b[39;00m\n\u001b[0;32m      5\u001b[0m     qr \u001b[38;5;241m=\u001b[39m QuantumRegister(n\u001b[38;5;241m+\u001b[39m\u001b[38;5;241m1\u001b[39m)\n",
      "\u001b[1;31mImportError\u001b[0m: cannot import name 'execute' from 'qiskit' (c:\\Users\\chris\\anaconda3\\envs\\qc\\Lib\\site-packages\\qiskit\\__init__.py)"
     ]
    }
   ],
   "source": [
    "from qiskit import QuantumCircuit, ClassicalRegister, QuantumRegister, execute, BasicAer\n",
    "\n",
    "def run_dj_circuit(oracle_type, oracle_value, n):\n",
    "    # Define a circuit similar to your existing code\n",
    "    qr = QuantumRegister(n+1)\n",
    "    cr = ClassicalRegister(n, name='res')\n",
    "    djCircuit = QuantumCircuit(qr, cr)\n",
    "\n",
    "    # Initial superposition\n",
    "    for i in range(n):\n",
    "        djCircuit.h(qr[i])\n",
    "    \n",
    "    # Flip the second register and apply Hadamard gate\n",
    "    djCircuit.x(qr[n])\n",
    "    djCircuit.h(qr[n])\n",
    "\n",
    "    # Oracle section (simplified as per oracle_type and oracle_value)\n",
    "    djCircuit.barrier()\n",
    "    if oracle_type == 0:  # Constant function\n",
    "        if oracle_value == 1:\n",
    "            djCircuit.x(qr[n])\n",
    "    else:  # Balanced function (example case)\n",
    "        for i in range(n):\n",
    "            if (oracle_value & (1 << i)):  # Custom oracle for this 2x2 subgrid\n",
    "                djCircuit.cx(qr[i], qr[n])\n",
    "    djCircuit.barrier()\n",
    "\n",
    "    # Apply Hadamard gates and measure\n",
    "    for i in range(n):\n",
    "        djCircuit.h(qr[i])\n",
    "    \n",
    "    djCircuit.barrier()\n",
    "    for i in range(n):\n",
    "        djCircuit.measure(qr[i], cr[i])\n",
    "\n",
    "    # Run the circuit\n",
    "    simulator = BasicAer.get_backend('qasm_simulator')\n",
    "    job = execute(djCircuit, simulator, shots=1024)\n",
    "    result = job.result()\n",
    "    counts = result.get_counts(djCircuit)\n",
    "    \n",
    "    # Determine if constant or balanced based on measurement\n",
    "    return \"balanced\" if '0' * n in counts else \"constant\"\n",
    "\n",
    "# Initialize the output 14x14 grid\n",
    "output_grid = np.empty((14, 14), dtype=str)\n",
    "\n",
    "# Process each 2x2 subgrid\n",
    "for i in range(14):\n",
    "    for j in range(14):\n",
    "        # Randomly assign oracle type and value for each 2x2 subgrid as per your logic\n",
    "        oracle_type, oracle_value = np.random.randint(2), np.random.randint(2)\n",
    "\n",
    "        # Run the circuit\n",
    "        result = run_dj_circuit(oracle_type, oracle_value, 4)\n",
    "        \n",
    "        # Map result to 'e' for edge and 'f' for fill in the output grid\n",
    "        output_grid[i, j] = 'e' if result == \"balanced\" else 'f'\n",
    "\n",
    "print(\"Final 14x14 Output Grid:\")\n",
    "print(output_grid)"
   ]
  },
  {
   "cell_type": "code",
   "execution_count": null,
   "metadata": {},
   "outputs": [],
   "source": [
    "from qiskit import QuantumCircuit, ClassicalRegister, QuantumRegister, transpile"
   ]
  },
  {
   "cell_type": "code",
   "execution_count": null,
   "metadata": {},
   "outputs": [
    {
     "ename": "ModuleNotFoundError",
     "evalue": "No module named 'qiskit_aer'",
     "output_type": "error",
     "traceback": [
      "\u001b[1;31m---------------------------------------------------------------------------\u001b[0m",
      "\u001b[1;31mModuleNotFoundError\u001b[0m                       Traceback (most recent call last)",
      "Cell \u001b[1;32mIn[6], line 1\u001b[0m\n\u001b[1;32m----> 1\u001b[0m \u001b[38;5;28;01mfrom\u001b[39;00m \u001b[38;5;21;01mqiskit_aer\u001b[39;00m \u001b[38;5;28;01mimport\u001b[39;00m Aer\n",
      "\u001b[1;31mModuleNotFoundError\u001b[0m: No module named 'qiskit_aer'"
     ]
    }
   ],
   "source": [
    "from qiskit_aer import Aer"
   ]
  }
 ],
 "metadata": {
  "kernelspec": {
   "display_name": "dj",
   "language": "python",
   "name": "python3"
  },
  "language_info": {
   "codemirror_mode": {
    "name": "ipython",
    "version": 3
   },
   "file_extension": ".py",
   "mimetype": "text/x-python",
   "name": "python",
   "nbconvert_exporter": "python",
   "pygments_lexer": "ipython3",
   "version": "3.13.0"
  }
 },
 "nbformat": 4,
 "nbformat_minor": 2
}
